{
 "cells": [
  {
   "cell_type": "code",
   "execution_count": null,
   "metadata": {
    "collapsed": false
   },
   "outputs": [],
   "source": [
    "%load_ext autoreload\n",
    "%autoreload 2\n",
    "\n",
    "from IPython.core.display import display, HTML\n",
    "display(HTML(\"<style>.container { width:1800px !important; }</style>\"))\n",
    "\n",
    "import pandas as pd\n",
    "pd.options.display.max_colwidth = 2999\n",
    "pd.options.display.max_columns = 200\n",
    "pd.options.display.max_rows = 200\n",
    "pd.options.display"
   ]
  },
  {
   "cell_type": "code",
   "execution_count": null,
   "metadata": {
    "collapsed": true
   },
   "outputs": [],
   "source": [
    "from tempfile import NamedTemporaryFile\n",
    "import subprocess\n",
    "import pandas as pd"
   ]
  },
  {
   "cell_type": "code",
   "execution_count": null,
   "metadata": {
    "collapsed": false
   },
   "outputs": [],
   "source": [
    "def disambiguate_word_sense(text, vocab=\"vocab.100000.txt\", model=\"model.ckpt-100000\"):\n",
    "    with NamedTemporaryFile() as f:        \n",
    "        f.write(text.encode('utf-8'))\n",
    "        f.flush()\n",
    "        cmd = (\"python wsd.py --mode topk --vocab_path models/{} --input_path {} --checkpoint_path models/{}\".format(vocab, f.name, model))\n",
    "        proc = subprocess.Popen(cmd, shell=True, stdout=subprocess.PIPE)\n",
    "        return proc.communicate()[0].decode(\"utf-8\").split('\\n')[:-1]"
   ]
  },
  {
   "cell_type": "code",
   "execution_count": null,
   "metadata": {
    "collapsed": false
   },
   "outputs": [],
   "source": [
    "nick_sentences = [\n",
    "    (('',), \"Business leaders proposed a policy to increase corporate control\"),\n",
    "    (('',), \"Leaders in Europe have invested in renewable energy industries\")]\n",
    "\n",
    "general_sentences = [\n",
    "    (('',), \"It was very dark night, there was no light\"),\n",
    "    (('',), \"My new phone, iphone 5s, is very light\"),             \n",
    "    (('',),\"Fast tanks used during world war II by germans were called Tigers\"),\n",
    "    (('',),\"Golf player Tiger Woods had great golf season\"),\n",
    "    (('',),\"Tigers are dangerous animals and they live in Asia planes\")]\n",
    "\n",
    "domain_sentences = [\n",
    "    (('',),\"I am unhappy that\"),\n",
    "    (('',),\"He is dissatisfied with\"),\n",
    "    (('',),\"I should switch back to Verizon\"),                           \n",
    "    (('',),\"This android is better than iphone\"),\n",
    "    (('',),\"That signal so called booster isn't working\"),                          \n",
    "    (('',),\"It's outrage - why's that so expensive\")]   \n",
    "\n",
    "jan_sentences = [\n",
    "    (('Customer', 'Problem', 'Reception'), \"i'm having reception problems\"),\n",
    "    (('Agent', 'Offer', 'iPhone'), 'interest you in the iphone'),\n",
    "    (('Customer', 'Solution Rebuttal'), \"don't think this is going to help\"),\n",
    "    (('Agent', 'Hold'), 'please hold'),\n",
    "    (('Agent', 'Offer', 'Signal Booster'), 'you need a signal booster'),\n",
    "    (('Customer', 'Anger'), 'this is outrageous!'),\n",
    "    (('Customer', 'Churn', 'Competitor'), 'switch back to sprint'),\n",
    "    (('Agent', 'Empathy'), \"i'm sorry that you feel this way,\"),\n",
    "    (('Agent', 'Solutions Exhausted'), 'nothing more could do'),\n",
    "    (('Customer', 'Objection', 'Price'), \"don't want to pay extra to have\"),\n",
    "    (('Agent', 'Empathy'), 'I understand how this can be upsetting'),\n",
    "    (('Agent', 'Confidence'), 'Let me propose I can'),\n",
    "    (('Agent', 'Offer', '1 month free'), 'offer you one month free'),\n",
    "    (('Customer', 'Agreement'), 'that is more like it I can agree to that'),\n",
    "    (('Customer', 'Gratitude'), 'thank you'),\n",
    "    (('Agent', 'Request for Evaluation'), 'have i assisted you with all of your issues today?'),\n",
    "    (('Customer', 'Positive Feedback'), 'thanks very much for your help, you were great'),\n",
    "    (('Customer', 'Gratitude'), 'thanks')\n",
    "    ]\n",
    "    \n",
    "sentences = nick_sentences + general_sentences + jan_sentences + general_sentences"
   ]
  },
  {
   "cell_type": "code",
   "execution_count": null,
   "metadata": {
    "collapsed": false
   },
   "outputs": [],
   "source": [
    "from collections import defaultdict\n",
    "from tqdm import tqdm\n",
    "presentation_dict = defaultdict(list)\n",
    "for annotation, sentence in tqdm(sentences):\n",
    "    text = sentence\n",
    "    splitted_text = text.split()\n",
    "    disambiguated_text = disambiguate_word_sense(text)\n",
    "    if len(splitted_text) == len(disambiguated_text):        \n",
    "        annotation_text = '_'.join(annotation)\n",
    "        for word, propositions in zip(splitted_text, disambiguated_text):\n",
    "            presentation_dict['words'].append(word)            \n",
    "            presentation_dict['propositions'].append(propositions)        \n",
    "            presentation_dict['annotation'].append(annotation_text)\n",
    "            presentation_dict['original_sentence'].append(sentence)"
   ]
  },
  {
   "cell_type": "code",
   "execution_count": null,
   "metadata": {
    "collapsed": false
   },
   "outputs": [],
   "source": [
    "presentation_df = pd.DataFrame.from_dict(presentation_dict)"
   ]
  },
  {
   "cell_type": "code",
   "execution_count": null,
   "metadata": {
    "collapsed": false
   },
   "outputs": [],
   "source": [
    "presentation_df"
   ]
  },
  {
   "cell_type": "code",
   "execution_count": null,
   "metadata": {
    "collapsed": false
   },
   "outputs": [],
   "source": [
    "with open('presentation_of results.html', 'w') as f:\n",
    "    f.write(presentation_df.to_html())"
   ]
  }
 ],
 "metadata": {
  "kernelspec": {
   "display_name": "Python 3",
   "language": "python",
   "name": "python3"
  },
  "language_info": {
   "codemirror_mode": {
    "name": "ipython",
    "version": 3
   },
   "file_extension": ".py",
   "mimetype": "text/x-python",
   "name": "python",
   "nbconvert_exporter": "python",
   "pygments_lexer": "ipython3",
   "version": "3.5.1+"
  }
 },
 "nbformat": 4,
 "nbformat_minor": 2
}
